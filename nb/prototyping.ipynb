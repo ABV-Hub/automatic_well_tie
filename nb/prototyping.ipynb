{
 "cells": [
  {
   "cell_type": "markdown",
   "metadata": {},
   "source": [
    "# Prototyping an automatic well tie\n",
    "\n",
    "## Outline\n",
    "\n",
    "1. Building a Synthetic Well Log\n",
    "1. Generating Synthetic Seismic trace\n",
    "1. Generating Synthetic using portion of Synthetic Well\n",
    "1. Dynamic Time Warping (DTW) for automatic well ties\n",
    "\n",
    "This notebook will explore building a synthetic well log of alternating lithology units, namely shale and sand.\n",
    "\n",
    "The synthetic well log will be convolved with a wavetlet and then will have random noise added.  This will be our synthetic seismic trace.\n",
    "\n",
    "The we will then use only a portion of the synthetic well to simulate the portion recorded by wireline logging.  This will be used to create a synthetic for seismic-to-well tie purposes.\n",
    "\n",
    "We will then explore using dtw-python to create an automatic well tie.\n",
    "\n",
    "A portion of code from a 2017 SEG Tutorial on [Seismic Rock Physics](https://github.com/seg/tutorials-2017/blob/master/1706_Seismic_rock_physics/seismic_rock_physics.ipynb) will help guide some of the work to build a synthetic well."
   ]
  },
  {
   "cell_type": "markdown",
   "metadata": {},
   "source": [
    "## Library Imports"
   ]
  },
  {
   "cell_type": "code",
   "execution_count": 1,
   "metadata": {},
   "outputs": [],
   "source": [
    "import numpy as np\n",
    "import scipy as sp\n",
    "import pandas as pd\n",
    "import matplotlib.pyplot as plt\n",
    "%matplotlib inline\n",
    "\n",
    "from bruges.filters import ricker\n",
    "from bruges.reflection import shuey2"
   ]
  },
  {
   "cell_type": "code",
   "execution_count": null,
   "metadata": {},
   "outputs": [],
   "source": []
  }
 ],
 "metadata": {
  "kernelspec": {
   "display_name": "geopy",
   "language": "python",
   "name": "geopy"
  },
  "language_info": {
   "codemirror_mode": {
    "name": "ipython",
    "version": 3
   },
   "file_extension": ".py",
   "mimetype": "text/x-python",
   "name": "python",
   "nbconvert_exporter": "python",
   "pygments_lexer": "ipython3",
   "version": "3.7.6"
  }
 },
 "nbformat": 4,
 "nbformat_minor": 4
}
